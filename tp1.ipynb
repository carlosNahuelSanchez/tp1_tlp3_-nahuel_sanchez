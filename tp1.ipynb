{
 "cells": [
  {
   "cell_type": "markdown",
   "metadata": {},
   "source": [
    "# Criterios de evaluación.\n",
    "\n",
    "* Se deben utilizar nombres de variables descriptivos y claros (Utilizar la nomeclatura correspondiente para los nombres de variables).\n",
    "* Comentarios claros y concisos que expliquen el propósito de cada sección del código.\n",
    "* Entrega en tiempo y forma.\n",
    "* Todo el código desarrollado debe ser subido a un repositorio en GitHub (el nombre del repositorio de seguir la siguiente estructura: tp1_tlp3_nombre_apellido).\n",
    "\n",
    "\n",
    "**Aclaración: Para resolver las actividades se debe incertar casillas de codigo entre cada actividad del cuaderno de Jupyter**"
   ]
  },
  {
   "cell_type": "markdown",
   "metadata": {},
   "source": [
    "### 1. **Hola Mundo y Variables**\n",
    "\n",
    "   - **Actividad 1.1**: Deben escribir un programa que imprima \"¡Hola, Mundo!\" en la consola.\n",
    "   - **Actividad 1.2**: Deben crear una variable llamada `nombre` y hacer que el programa imprima un saludo personalizado: `Hola, <nombre>!`"
   ]
  },
  {
   "cell_type": "code",
   "execution_count": null,
   "metadata": {},
   "outputs": [
    {
     "name": "stdout",
     "output_type": "stream",
     "text": [
      "Hola Mundo\n",
      "----------------------------------------------------------------------------------------------------------------------------------\n",
      "Hola 1\n"
     ]
    }
   ],
   "source": [
    "# Imprime el mensaje \"Hola Mundo\" en la consola\n",
    "print(\"Hola Mundo\")\n",
    "\n",
    "print(\"----------------------------------------------------------------------------------------------------------------------------------\")\n",
    "\n",
    "# Asigna el valor 1 a la variable 'nombre'\n",
    "nombre = 1\n",
    "\n",
    "# Imprime un saludo concatenado con el valor de la variable 'nombre'\n",
    "print(\"Hola\", nombre)"
   ]
  },
  {
   "cell_type": "markdown",
   "metadata": {},
   "source": [
    "### 2. **Operaciones Matemáticas Básicas**\n",
    "\n",
    "   - **Actividad 1.1**: Crear un programa que pida al usuario dos números y realice las cuatro operaciones matemáticas básicas (suma, resta, multiplicación y división), imprimiendo los resultados.\n",
    "   - **Actividad 1.2**: Hacer que el programa calcule el promedio de los dos números."
   ]
  },
  {
   "cell_type": "code",
   "execution_count": null,
   "metadata": {},
   "outputs": [
    {
     "name": "stdout",
     "output_type": "stream",
     "text": [
      "Suma: 3.0 + 0.0 = 3.0 \n",
      "Resta: 3.0 + 0.0 = 3.0 \n",
      "División: 3.0 + 0.0 = No se puede dividir por 0 \n",
      "Multiplicación: 3.0 + 0.0 = 0.0 \n",
      "----------------------------------------------------------------------------------------------------------------------------------\n",
      "Promedio de los dos números: 1.5\n"
     ]
    }
   ],
   "source": [
    "# Solicita al usuario que ingrese el primer número y lo convierte a tipo float\n",
    "numero_1 = float(input(\"Ingrese el primer numero\"))\n",
    "\n",
    "# Solicita al usuario que ingrese el segundo número y lo convierte a tipo float\n",
    "numero_2 = float(input(\"Ingrese el segundo numero\"))\n",
    "\n",
    "# Realiza la suma de los dos números\n",
    "suma = numero_1 + numero_2\n",
    "\n",
    "# Realiza la resta de los dos números\n",
    "resta = numero_1 - numero_2\n",
    "\n",
    "# Realiza la multiplicación de los dos números\n",
    "multiplicacion = numero_1 * numero_2\n",
    "\n",
    "# Verifica si el segundo número es distinto de 0 para evitar división por cero\n",
    "if numero_2 != 0:\n",
    "    division = numero_1 / numero_2  # Realiza la división si es posible\n",
    "else:\n",
    "    division = \"No se puede dividir por 0\"  # Mensaje de error si el divisor es 0\n",
    "\n",
    "# Imprime los resultados de las operaciones básicas\n",
    "print(f\"Suma: {numero_1} + {numero_2} = {suma} \")\n",
    "print(f\"Resta: {numero_1} + {numero_2} = {resta} \")\n",
    "print(f\"División: {numero_1} + {numero_2} = {division} \")\n",
    "print(f\"Multiplicación: {numero_1} + {numero_2} = {multiplicacion} \")\n",
    "\n",
    "print(\"----------------------------------------------------------------------------------------------------------------------------------\")\n",
    "\n",
    "# Calcula el promedio de los dos números\n",
    "promedio = (numero_1 + numero_2) / 2\n",
    "\n",
    "# Imprime el promedio de los dos números\n",
    "print(f\"Promedio de los dos números: {promedio}\")"
   ]
  },
  {
   "cell_type": "markdown",
   "metadata": {},
   "source": [
    "### 3. **Condicionales (if-else)**\n",
    "\n",
    "   - **Actividad 1.1**: Escribir un programa que pida al usuario su edad y le diga si es mayor de edad (18 años o más).\n",
    "   - **Actividad 1.2**: Agregar un mensaje diferente para diferentes rangos de edad, como por ejemplo, si es un niño, adolescente o adulto."
   ]
  },
  {
   "cell_type": "code",
   "execution_count": null,
   "metadata": {},
   "outputs": [
    {
     "name": "stdout",
     "output_type": "stream",
     "text": [
      "El usuario es menor de edad\n",
      "----------------------------------------------------------------------------------------------------------------------------------\n",
      "El usuario es un niño\n"
     ]
    }
   ],
   "source": [
    "# Solicita al usuario que ingrese su edad y la convierte a un entero\n",
    "edadUsuario = int(input(\"Ingrese su edad\"))\n",
    "\n",
    "# Verifica si el usuario es mayor o menor de edad\n",
    "if edadUsuario >= 18:\n",
    "    print(\"El usuario es mayor de edad\")  # Mensaje si el usuario tiene 18 años o más\n",
    "else:\n",
    "    print(\"El usuario es menor de edad\")  # Mensaje si el usuario tiene menos de 18 años\n",
    "\n",
    "print(\"----------------------------------------------------------------------------------------------------------------------------------\")\n",
    "\n",
    "# Clasifica al usuario en diferentes rangos de edad\n",
    "if edadUsuario < 12:\n",
    "    print(\"El usuario es un niño\")  # Mensaje si el usuario tiene menos de 12 años\n",
    "elif edadUsuario >= 12 and edadUsuario < 18:\n",
    "    print(\"El usuario es adolescente\")  # Mensaje si el usuario tiene entre 12 y 17 años\n",
    "else:\n",
    "    print(\"El usuario es adulto\")  # Mensaje si el usuario tiene 18 años o más"
   ]
  },
  {
   "cell_type": "markdown",
   "metadata": {},
   "source": [
    "### 4. **Ciclos (while, for)**\n",
    "\n",
    "   - **Actividad 1.1**: Escribir un programa que imprima los números del 1 al 10 usando un bucle `for`.\n",
    "   - **Actividad 1.2**: Usar un bucle `while` para imprimir los números del 1 al 10, e imprimir solo aquellos números que sean divisibles por 2."
   ]
  },
  {
   "cell_type": "code",
   "execution_count": null,
   "metadata": {},
   "outputs": [
    {
     "name": "stdout",
     "output_type": "stream",
     "text": [
      "1\n",
      "2\n",
      "3\n",
      "4\n",
      "5\n",
      "6\n",
      "7\n",
      "8\n",
      "9\n",
      "10\n",
      "----------------------------------------------------------------------------------------------------------------------------------\n",
      "2\n",
      "4\n",
      "6\n",
      "8\n",
      "10\n"
     ]
    }
   ],
   "source": [
    "# Utiliza un bucle for para imprimir los números del 1 al 10\n",
    "for i in range(1, 11):\n",
    "    print(i)\n",
    "\n",
    "print(\"----------------------------------------------------------------------------------------------------------------------------------\")\n",
    "\n",
    "# Inicializa la variable x en 1\n",
    "x = 1\n",
    "\n",
    "# Utiliza un bucle while para imprimir los números del 1 al 10 que sean divisibles por 2\n",
    "while x <= 10:\n",
    "    if x % 2 == 0:  # Verifica si el número es divisible por 2\n",
    "        print(x)  # Imprime el número si es divisible por 2\n",
    "    x += 1  # Incrementa el valor de x en 1"
   ]
  },
  {
   "cell_type": "markdown",
   "metadata": {},
   "source": [
    "### 5. **Listas y Bucles**\n",
    "\n",
    "   - **Actividad 1.1**: Crear una lista con 5 números y escribir un programa que imprima cada número de la lista usando un bucle `for`.\n",
    "   - **Actividad 1.2**: Usar un bucle para calcular la suma de los números de la lista."
   ]
  },
  {
   "cell_type": "code",
   "execution_count": null,
   "metadata": {},
   "outputs": [
    {
     "name": "stdout",
     "output_type": "stream",
     "text": [
      "1\n",
      "2\n",
      "3\n",
      "4\n",
      "5\n",
      "----------------------------------------------------------------------------------------------------------------------------------\n",
      "La suma de los numeros es  15\n"
     ]
    }
   ],
   "source": [
    "# Define una lista de números\n",
    "lista_numeros = [1, 2, 3, 4, 5]\n",
    "\n",
    "# Recorre la lista utilizando un bucle for e imprime cada número\n",
    "for i in range(len(lista_numeros)):\n",
    "    print(lista_numeros[i])\n",
    "\n",
    "print(\"----------------------------------------------------------------------------------------------------------------------------------\")\n",
    "\n",
    "# Inicializa una variable para almacenar la suma de los números\n",
    "suma = 0\n",
    "\n",
    "# Recorre la lista utilizando un bucle for y suma cada número al acumulador\n",
    "for i in range(len(lista_numeros)):\n",
    "    suma += lista_numeros[i]\n",
    "\n",
    "# Imprime el resultado de la suma de los números\n",
    "print(f\"La suma de los numeros es {suma}\")\n"
   ]
  },
  {
   "cell_type": "markdown",
   "metadata": {},
   "source": [
    "### 6. **Funciones**\n",
    "\n",
    "   - **Actividad 1.1**: Escribir una función llamada `saludo` que reciba un nombre como parámetro y devuelva un saludo personalizado.\n",
    "   - **Actividad 1.2**: Crear una función que reciba dos números y devuelva su suma, resta, multiplicación y división."
   ]
  },
  {
   "cell_type": "code",
   "execution_count": null,
   "metadata": {},
   "outputs": [],
   "source": [
    "# Define una función llamada saludoPersonalizado que recibe un nombre como parámetro y lo imprime en un saludo personalizado\n",
    "def saludoPersonalizado(nombre):\n",
    "    print(f\"Hola {nombre}\")  # Imprime el saludo personalizado\n",
    "\n",
    "# Solicita al usuario que ingrese su nombre\n",
    "nombrePersonalizado = input(\"Ingrese su nombre\")\n",
    "\n",
    "# Llama a la función saludoPersonalizado con el nombre ingresado por el usuario\n",
    "saludoPersonalizado(nombrePersonalizado)\n",
    "\n",
    "print(\"----------------------------------------------------------------------------------------------------------------------------------\")\n",
    "\n",
    "# Define una función llamada calculadoraParametros que realiza operaciones matemáticas básicas con dos números\n",
    "def calculadoraParametros(numero_1, numero_2):\n",
    "    # Realiza la suma de los dos números\n",
    "    suma = numero_1 + numero_2\n",
    "\n",
    "    # Realiza la resta de los dos números\n",
    "    resta = numero_1 - numero_2\n",
    "\n",
    "    # Realiza la multiplicación de los dos números\n",
    "    multiplicacion = numero_1 * numero_2\n",
    "\n",
    "    # Verifica si el segundo número es distinto de 0 para evitar división por cero\n",
    "    if numero_2 != 0:\n",
    "        division = numero_1 / numero_2  # Realiza la división si es posible\n",
    "    else:\n",
    "        division = \"No se puede dividir por 0\"  # Mensaje de error si el divisor es 0\n",
    "        \n",
    "    # Imprime los resultados de las operaciones básicas\n",
    "    print(f\"Suma: {numero_1} + {numero_2} = {suma} \")\n",
    "    print(f\"Resta: {numero_1} + {numero_2} = {resta} \")\n",
    "    print(f\"División: {numero_1} + {numero_2} = {division} \")\n",
    "    print(f\"Multiplicación: {numero_1} + {numero_2} = {multiplicacion} \")\n",
    "    \n",
    "\n",
    "# Solicita al usuario que ingrese el primer número y lo convierte a tipo float\n",
    "numeroPersonalizado_1 = float(input(\"Ingrese el primer numero\"))\n",
    "\n",
    "# Solicita al usuario que ingrese el segundo número y lo convierte a tipo float\n",
    "numeroPersonalizado_2 = float(input(\"Ingrese el segundo numero\"))\n",
    "\n",
    "# Llama a la función calculadoraParametros con los números ingresados por el usuario\n",
    "calculadoraParametros(numeroPersonalizado_1, numeroPersonalizado_2)"
   ]
  },
  {
   "cell_type": "markdown",
   "metadata": {},
   "source": [
    "### 7. **Manejo de cadenas de texto**\n",
    "\n",
    "   - **Actividad 1.1**: Escribir un programa que pida al usuario su nombre y lo imprima en mayúsculas y en minúsculas.\n",
    "   - **Actividad 1.2**: Hacer que el programa imprima la longitud del nombre ingresado (no tener en cuenta los espacios en blanco)."
   ]
  },
  {
   "cell_type": "code",
   "execution_count": null,
   "metadata": {},
   "outputs": [],
   "source": [
    "# Solicita al usuario que ingrese su nombre\n",
    "nombre_usuario = input(\"Ingresa tu nombre: \")\n",
    "\n",
    "# Convierte el nombre ingresado a mayúsculas y lo almacena en la variable 'nombre_mayuscula'\n",
    "nombre_mayuscula = nombre_usuario.upper()\n",
    "\n",
    "# Convierte el nombre ingresado a minúsculas y lo almacena en la variable 'nombre_minuscula'\n",
    "nombre_minuscula = nombre_usuario.lower()\n",
    "\n",
    "# Imprime el nombre en minúsculas y mayúsculas\n",
    "print(f\"Nombre en minuscula: {nombre_minuscula}\")\n",
    "print(f\"Nombre en mayuscula: {nombre_mayuscula}\")\n",
    "\n",
    "print(\"----------------------------------------------------------------------------------------------------------------------------------\")\n",
    "\n",
    "# Elimina los espacios en blanco del nombre ingresado y lo almacena en 'nombre_sinEspacios'\n",
    "nombre_sinEspacios = nombre_usuario.replace(\" \", \"\")\n",
    "\n",
    "# Calcula la longitud del nombre sin espacios y la almacena en 'nombre_longitud'\n",
    "nombre_longitud = len(nombre_sinEspacios)\n",
    "\n",
    "# Imprime la longitud del nombre sin contar los espacios\n",
    "print(f\"El nombre sin espacios tiene un total de {nombre_longitud} caracteres\")\n"
   ]
  },
  {
   "cell_type": "markdown",
   "metadata": {},
   "source": [
    "### 8. **Diccionarios**\n",
    "\n",
    "   - **Actividad1.1**: Crear un diccionario que contenga los nombres de tres personas como claves y sus edades como valores. El programa debe imprimir la edad de cada persona.\n",
    "   - **Actividad1.2**: Escribir un programa que pregunte al usuario un nombre, luego su edad y los agregue al diccionario."
   ]
  },
  {
   "cell_type": "code",
   "execution_count": null,
   "metadata": {},
   "outputs": [],
   "source": [
    "# Crea un diccionario llamado 'persona_edades' con nombres como claves y edades como valores\n",
    "persona_edades = {\n",
    "    \"Nahuel\": 19,\n",
    "    \"Ramiro\": 31,\n",
    "    \"Lucas\": 21\n",
    "}\n",
    "\n",
    "# Recorre el diccionario e imprime los valores (edades) de cada clave (nombre)\n",
    "for clave, valor in persona_edades.items():\n",
    "    print(valor)\n",
    "    \n",
    "print(\"----------------------------------------------------------------------------------------------------------------------------------\")\n",
    "\n",
    "# Solicita al usuario que ingrese una nueva clave (nombre) para agregar al diccionario\n",
    "nuevaClave = input(\"Ingrese una nueva clave\")\n",
    "\n",
    "# Solicita al usuario que ingrese un nuevo valor (edad) para la clave ingresada\n",
    "nuevoValor = input(\"Ingrese un nuevo valor\")\n",
    "\n",
    "# Agrega la nueva clave y valor al diccionario\n",
    "persona_edades[nuevaClave] = nuevoValor\n",
    "\n",
    "# Imprime un mensaje indicando que el valor se agregó correctamente y muestra el diccionario actualizado\n",
    "print(f\"El valor se agrego correctamente {persona_edades}\")"
   ]
  },
  {
   "cell_type": "markdown",
   "metadata": {},
   "source": [
    "### 9. **Números aleatorios**\n",
    "\n",
    "   - **Actividad 1.1**: Escribir un programa que genere 5 números aleatorios entre 1 y 100, lo imprima por consola y diga si es mayor o menor a 50.\n",
    "   - **Actividad 1.2**: Sumar los 5 números generados aleatoriamente y en caso de que el resultado sea mayor a 100, mostrar el valor antes de ser mayor a 100 y cuantos números se sumaron para llegar a dicho valor."
   ]
  },
  {
   "cell_type": "code",
   "execution_count": null,
   "metadata": {},
   "outputs": [
    {
     "name": "stdout",
     "output_type": "stream",
     "text": [
      "El numero 35 es menor a 50\n",
      "El numero 52 es mayor a 50\n",
      "El numero 10 es menor a 50\n",
      "El numero 47 es menor a 50\n",
      "El numero 79 es mayor a 50\n",
      "----------------------------------------------------------------------------------------------------------------------------------\n",
      "La suma antes de llegar a los 100 fue 35\n",
      "Números sumados para llegar a ese valor: 1\n"
     ]
    }
   ],
   "source": [
    "import random  # Importa el módulo random para generar números aleatorios\n",
    "\n",
    "# Genera una lista de 5 números aleatorios entre 1 y 100\n",
    "numerosAleatorios = random.sample(range(1, 100), 5)\n",
    "\n",
    "# Recorre la lista de números aleatorios\n",
    "for i in range(len(numerosAleatorios)):\n",
    "    numeroAleatorio = numerosAleatorios[i]  # Obtiene el número actual\n",
    "    # Verifica si el número es mayor o menor a 50 y lo imprime\n",
    "    if numeroAleatorio >= 50:\n",
    "        print(f\"El numero {numeroAleatorio} es mayor a 50\")\n",
    "    else:\n",
    "        print(f\"El numero {numeroAleatorio} es menor a 50\")\n",
    "\n",
    "print(\"----------------------------------------------------------------------------------------------------------------------------------\")\n",
    "\n",
    "# Inicializa las variables para la suma acumulada y el contador de números\n",
    "suma = 0\n",
    "contador = 0\n",
    "\n",
    "# Recorre la lista de números aleatorios\n",
    "for num in numerosAleatorios:\n",
    "    suma += num  # Suma el número actual a la suma acumulada\n",
    "    contador += 1  # Incrementa el contador de números sumados\n",
    "    \n",
    "    # Verifica si la suma acumulada más el siguiente número supera 100\n",
    "    if suma + num >= 100:    \n",
    "        print(f\"La suma antes de llegar a los 100 fue {suma - num}\")  # Imprime la suma antes de superar 100\n",
    "        print(f\"Números sumados para llegar a ese valor: {contador - 1}\")  # Imprime cuántos números se sumaron\n",
    "        break  # Termina el bucle si se supera el límite\n",
    "else:\n",
    "    # Si la suma no supera los 100, imprime los resultados finales\n",
    "    print(\"La suma no paso los 100.\")\n",
    "    print(f\"Suma: {suma}\")  # Imprime la suma total\n",
    "    print(f\"Números sumados: {contador}\")  # Imprime el total de números sumados\n"
   ]
  },
  {
   "cell_type": "markdown",
   "metadata": {},
   "source": [
    "### 10. **Proyecto Final: Calculadora**\n",
    "\n",
    "   - **Actividad 1.1**: Los estudiantes deben crear una calculadora básica que permita realizar operaciones de suma, resta, multiplicación y división con entradas del usuario. El programa debe pedir al usuario que elija la operación y luego introducir 2 números para realizar el cálculo.\n",
    "   - **Actividad 1.2**: Implementar una opción para que el usuario pueda continuar haciendo cálculos o salir del programa."
   ]
  },
  {
   "cell_type": "code",
   "execution_count": null,
   "metadata": {},
   "outputs": [],
   "source": [
    "while True:  # Inicia un bucle infinito para permitir múltiples operaciones\n",
    "    try:\n",
    "        # Solicitar la operación al usuario o permitir la salida\n",
    "        operacion = input(\"\\nIngrese la operación que desea realizar (+, -, *, /) o 'q' para salir: \").strip()\n",
    "        \n",
    "        # Salir si el usuario lo decide\n",
    "        if operacion.lower() == 'q':  # Si el usuario ingresa 'q', se finaliza el programa\n",
    "            print(\"Finalizando el programa. ¡Hasta luego!\")\n",
    "            break\n",
    "            \n",
    "        # Verificar si la operación ingresada es válida\n",
    "        if operacion not in ['+', '-', '*', '/']:  # Comprueba si la operación es válida\n",
    "            print(\"Error: Operación no reconocida. Por favor, ingrese +, -, * o /.\")\n",
    "            continue  # Reinicia el bucle si la operación no es válida\n",
    "            \n",
    "        # Solicitar los números al usuario\n",
    "        try:\n",
    "            numero_1 = float(input(\"Ingrese el primer número: \"))  # Convierte la entrada a tipo float\n",
    "            numero_2 = float(input(\"Ingrese el segundo número: \"))  # Convierte la entrada a tipo float\n",
    "        except ValueError:  # Captura errores si el usuario no ingresa un número válido\n",
    "            print(\"Error: Entrada no válida. Asegúrese de ingresar valores numéricos.\")\n",
    "            continue  # Reinicia el bucle si hay un error en la entrada\n",
    "            \n",
    "        # Realizar el cálculo según la operación seleccionada\n",
    "        if operacion == '+':  # Suma\n",
    "            resultado = numero_1 + numero_2\n",
    "        elif operacion == '-':  # Resta\n",
    "            resultado = numero_1 - numero_2\n",
    "        elif operacion == '*':  # Multiplicación\n",
    "            resultado = numero_1 * numero_2\n",
    "        elif operacion == '/':  # División\n",
    "            if numero_2 == 0:  # Verifica si el divisor es cero\n",
    "                print(\"Error: No es posible dividir entre cero.\")\n",
    "                continue  # Reinicia el bucle si hay un error\n",
    "            resultado = numero_1 / numero_2\n",
    "            \n",
    "        # Mostrar el resultado\n",
    "        print(f\"Resultado: {resultado}\")\n",
    "        \n",
    "        # Consultar si desea realizar otra operación\n",
    "        continuar = input(\"\\n¿Desea realizar otra operación? (s/n): \").strip().lower()\n",
    "        if continuar != 's':  # Si el usuario no desea continuar, se finaliza el programa\n",
    "            print(\"Operación finalizada. Gracias por utilizar la calculadora.\")\n",
    "            break\n",
    "            \n",
    "    except KeyboardInterrupt:  # Captura interrupciones del teclado (Ctrl + C)\n",
    "        print(\"\\nInterrupción detectada. Cerrando el programa...\")\n",
    "        break\n",
    "    except Exception as error:  # Captura cualquier otro error inesperado\n",
    "        print(f\"Ha ocurrido un error inesperado: {error}\")\n"
   ]
  },
  {
   "cell_type": "markdown",
   "metadata": {},
   "source": [
    "### EXTRA. **Juegos Simples (Adivina el número)**\n",
    "\n",
    "   - **Actividad 1.1**: Escribir un juego donde el programa elija un número aleatorio entre 1 y 100 y el usuario tenga que adivinarlo. El programa debe dar pistas si el número es mayor o menor.\n",
    "   - **Actividad 1.2**: Limitar el número de intentos y mostrar un mensaje de éxito o fracaso al final."
   ]
  }
 ],
 "metadata": {
  "kernelspec": {
   "display_name": "Python 3",
   "language": "python",
   "name": "python3"
  },
  "language_info": {
   "codemirror_mode": {
    "name": "ipython",
    "version": 3
   },
   "file_extension": ".py",
   "mimetype": "text/x-python",
   "name": "python",
   "nbconvert_exporter": "python",
   "pygments_lexer": "ipython3",
   "version": "3.13.2"
  }
 },
 "nbformat": 4,
 "nbformat_minor": 2
}
